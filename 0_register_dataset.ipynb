{
 "metadata": {
  "language_info": {
   "codemirror_mode": {
    "name": "ipython",
    "version": 3
   },
   "file_extension": ".py",
   "mimetype": "text/x-python",
   "name": "python",
   "nbconvert_exporter": "python",
   "pygments_lexer": "ipython3",
   "version": "3.7.9-final"
  },
  "orig_nbformat": 2,
  "kernelspec": {
   "name": "Python 3.7.9 64-bit ('aml37': conda)",
   "display_name": "Python 3.7.9 64-bit ('aml37': conda)",
   "metadata": {
    "interpreter": {
     "hash": "c8bb228c3d4a2844779ebad8fa8561a2f3a1ae0c017ea0843b2cfe7345a7aa3f"
    }
   }
  }
 },
 "nbformat": 4,
 "nbformat_minor": 2,
 "cells": [
  {
   "cell_type": "code",
   "execution_count": null,
   "metadata": {},
   "outputs": [],
   "source": [
    "from azureml.core import Workspace, Dataset, Datastore"
   ]
  },
  {
   "cell_type": "code",
   "execution_count": null,
   "metadata": {},
   "outputs": [],
   "source": [
    "### connecting to ML workspace\n",
    "### --------------------\n",
    "\n",
    "ws = Workspace.from_config()"
   ]
  },
  {
   "cell_type": "code",
   "execution_count": null,
   "metadata": {},
   "outputs": [],
   "source": [
    "### register dataset\n",
    "### --------------------\n",
    "\n",
    "datastore = ws.get_default_datastore()\n",
    "datastore.upload_files(files = ['data/german_credit_dataset.csv'], overwrite = True, show_progress = True)\n",
    "\n",
    "dataset = Dataset.Tabular.from_delimited_files(path = [(datastore, 'german_credit_dataset.csv')])\n",
    "dataset.register(ws, name = 'german_credit_hsg', tags = {'purpose': 'demo'}, create_new_version = True)"
   ]
  }
 ]
}