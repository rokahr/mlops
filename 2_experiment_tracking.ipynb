{
 "metadata": {
  "language_info": {
   "codemirror_mode": {
    "name": "ipython",
    "version": 3
   },
   "file_extension": ".py",
   "mimetype": "text/x-python",
   "name": "python",
   "nbconvert_exporter": "python",
   "pygments_lexer": "ipython3",
   "version": "3.7.9-final"
  },
  "orig_nbformat": 2,
  "kernelspec": {
   "name": "Python 3.7.9 64-bit ('aml37': conda)",
   "display_name": "Python 3.7.9 64-bit ('aml37': conda)",
   "metadata": {
    "interpreter": {
     "hash": "c8bb228c3d4a2844779ebad8fa8561a2f3a1ae0c017ea0843b2cfe7345a7aa3f"
    }
   }
  }
 },
 "nbformat": 4,
 "nbformat_minor": 2,
 "cells": [
  {
   "cell_type": "code",
   "execution_count": null,
   "metadata": {},
   "outputs": [],
   "source": [
    "import pandas as pd\n",
    "import os\n",
    "import joblib\n",
    "from azureml.core import Workspace, Experiment, Dataset, Datastore, Model, Run"
   ]
  },
  {
   "cell_type": "code",
   "execution_count": null,
   "metadata": {},
   "outputs": [],
   "source": [
    "### train ML model  -- code from before\n",
    "### --------------------\n",
    "\n",
    "df = pd.read_csv(\"./data/german_credit_dataset.csv\").drop('Sno', axis = 1)\n",
    "\n",
    "from sklearn.compose import ColumnTransformer\n",
    "from sklearn.impute import SimpleImputer\n",
    "from sklearn.linear_model import LogisticRegression\n",
    "from sklearn.model_selection import train_test_split\n",
    "from sklearn.metrics import recall_score\n",
    "from sklearn.pipeline import Pipeline\n",
    "from sklearn.preprocessing import LabelEncoder\n",
    "from sklearn.preprocessing import OneHotEncoder\n",
    "from sklearn.preprocessing import StandardScaler\n",
    "\n",
    "y_raw = df['Risk']\n",
    "X_raw = df.drop('Risk', axis=1)\n",
    "\n",
    "categorical_features = X_raw.select_dtypes(include=['object']).columns\n",
    "numeric_features = X_raw.select_dtypes(include=['int64', 'float']).columns\n",
    "\n",
    "categorical_transformer = Pipeline(steps=[\n",
    "    ('imputer', SimpleImputer(strategy='constant', fill_value=\"missing\")),\n",
    "    ('onehotencoder', OneHotEncoder(categories='auto', sparse=False))])\n",
    "\n",
    "numeric_transformer = Pipeline(steps=[\n",
    "    ('scaler', StandardScaler())])\n",
    "\n",
    "feature_engineering_pipeline = ColumnTransformer(\n",
    "    transformers=[\n",
    "        ('numeric', numeric_transformer, numeric_features),\n",
    "        ('categorical', categorical_transformer, categorical_features)\n",
    "    ], remainder=\"drop\")\n",
    "\n",
    "# Encode Labels\n",
    "le = LabelEncoder()\n",
    "encoded_y = le.fit_transform(y_raw)\n",
    "\n",
    "# Train test split\n",
    "X_train, X_test, y_train, y_test = train_test_split(X_raw, encoded_y, test_size=0.25, stratify=encoded_y, random_state=42)\n",
    "\n",
    "# Create sklearn pipeline\n",
    "lr_clf = Pipeline(steps=[('preprocessor', feature_engineering_pipeline),\n",
    "                         ('classifier', LogisticRegression(solver=\"lbfgs\", random_state = 23, penalty='l2'))])"
   ]
  },
  {
   "cell_type": "code",
   "execution_count": null,
   "metadata": {},
   "outputs": [],
   "source": [
    "### connecting to ML workspace\n",
    "### --------------------\n",
    "\n",
    "ws = Workspace.from_config()"
   ]
  },
  {
   "cell_type": "code",
   "execution_count": null,
   "metadata": {},
   "outputs": [],
   "source": [
    "### log experiment\n",
    "### --------------------\n",
    "\n",
    "experiment_name = 'german_credit_hsg'\n",
    "experiment = Experiment(ws, experiment_name)\n",
    "\n",
    "run = experiment.start_logging()\n",
    "\n",
    "# Train the model\n",
    "lr_clf.fit(X_train, y_train)\n",
    "\n",
    "# Capture metrics\n",
    "train_acc = lr_clf.score(X_train, y_train)\n",
    "test_acc = lr_clf.score(X_test, y_test)\n",
    "print(\"Training accuracy: %.3f\" % train_acc)\n",
    "print(\"Test data accuracy: %.3f\" % test_acc)\n",
    "print(\"Recall for class 'Bad': \", recall_score(y_test, lr_clf.predict(X_test), pos_label=0))\n",
    "\n",
    "# Log to Azure ML\n",
    "run.log('Train accuracy', train_acc)\n",
    "run.log('Test accuracy', test_acc)\n",
    "run.log('Recall', recall_score(y_test, lr_clf.predict(X_test), pos_label=0))\n",
    "    \n",
    "run.complete()"
   ]
  },
  {
   "cell_type": "code",
   "execution_count": null,
   "metadata": {},
   "outputs": [],
   "source": [
    "### store & upload model\n",
    "### --------------------\n",
    "\n",
    "#os.remove('model.pkl')\n",
    "joblib.dump(value=lr_clf, filename='model.pkl')\n",
    "run.upload_file(name = 'model.pkl', path_or_stream = './model.pkl')"
   ]
  },
  {
   "cell_type": "code",
   "execution_count": null,
   "metadata": {},
   "outputs": [],
   "source": [
    "### register model\n",
    "### --------------------\n",
    "\n",
    "ds = Dataset.get_by_name(ws, 'german_credit_hsg')\n",
    "\n",
    "model = run.register_model(model_name='german-credit-hsg',\n",
    "                           model_path='model.pkl',\n",
    "                           datasets=[['training-dataset', ds]],\n",
    "                           tags={\"use\": \"demo\", 'recall': 0.386})"
   ]
  }
 ]
}