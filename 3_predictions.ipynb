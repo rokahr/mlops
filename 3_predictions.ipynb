{
 "metadata": {
  "language_info": {
   "codemirror_mode": {
    "name": "ipython",
    "version": 3
   },
   "file_extension": ".py",
   "mimetype": "text/x-python",
   "name": "python",
   "nbconvert_exporter": "python",
   "pygments_lexer": "ipython3",
   "version": "3.7.9-final"
  },
  "orig_nbformat": 2,
  "kernelspec": {
   "name": "Python 3.7.9 64-bit ('aml37': conda)",
   "display_name": "Python 3.7.9 64-bit ('aml37': conda)",
   "metadata": {
    "interpreter": {
     "hash": "c8bb228c3d4a2844779ebad8fa8561a2f3a1ae0c017ea0843b2cfe7345a7aa3f"
    }
   }
  }
 },
 "nbformat": 4,
 "nbformat_minor": 2,
 "cells": [
  {
   "cell_type": "code",
   "execution_count": null,
   "metadata": {},
   "outputs": [],
   "source": [
    "from azureml.core import Workspace, Model, Dataset, Datastore, Experiment, Environment, ScriptRunConfig, RunConfiguration\n",
    "from azureml.core.compute import ComputeTarget, AmlCompute\n",
    "from azureml.core.compute_target import ComputeTargetException\n",
    "from azureml.pipeline.core import Pipeline\n",
    "from azureml.pipeline.steps import PythonScriptStep\n",
    "from azureml.core.environment import CondaDependencies\n",
    "import joblib\n",
    "import os\n",
    "import pandas as pd\n",
    "from datetime import datetime"
   ]
  },
  {
   "cell_type": "code",
   "execution_count": null,
   "metadata": {},
   "outputs": [],
   "source": [
    "### connecting to ML workspace\n",
    "### --------------------\n",
    "\n",
    "ws = Workspace.from_config()"
   ]
  },
  {
   "cell_type": "code",
   "execution_count": null,
   "metadata": {},
   "outputs": [],
   "source": [
    "### create compute target\n",
    "### --------------------\n",
    "\n",
    "cpu_cluster_name = \"cpu-cluster\"\n",
    "\n",
    "# Verify that cluster does not exist already\n",
    "try:\n",
    "    compute_target = ComputeTarget(workspace=ws, name=cpu_cluster_name)\n",
    "    print('Found existing cluster, use it.')\n",
    "except ComputeTargetException:\n",
    "    compute_config = AmlCompute.provisioning_configuration(vm_size='STANDARD_DS11_V2',\n",
    "                                                           min_nodes = 0, max_nodes=1)\n",
    "    compute_target = ComputeTarget.create(ws, cpu_cluster_name, compute_config)\n",
    "\n",
    "compute_target.wait_for_completion(show_output=True)"
   ]
  },
  {
   "cell_type": "code",
   "execution_count": null,
   "metadata": {},
   "outputs": [],
   "source": [
    "### create directory for script\n",
    "### --------------------\n",
    "\n",
    "os.makedirs('./scripts', exist_ok= True)"
   ]
  },
  {
   "cell_type": "code",
   "execution_count": null,
   "metadata": {},
   "outputs": [],
   "source": [
    "%%writefile scripts/batch_score.py\n",
    "\n",
    "### batch_score.py\n",
    "### --------------------\n",
    "\n",
    "from azureml.core import Workspace, Model, Dataset, Datastore, Run\n",
    "from azureml.core.authentication import ServicePrincipalAuthentication #\n",
    "import joblib\n",
    "import pandas as pd\n",
    "from datetime import datetime\n",
    "\n",
    "subscription_id = '<<insert your subscription ID>>'\n",
    "resource_group = '<<insert name of your resource group>>'\n",
    "workspace_name = '<<insert name of your Azure ML workspace>>'\n",
    "\n",
    "####\n",
    " \n",
    "svc_pr_password = Run.get_secret('<<name of your secret created in notebook 0>>')\n",
    "\n",
    "svc_pr = ServicePrincipalAuthentication(tenant_id=\"<<insert your tenant ID>>\", service_principal_id=\"<<insert ID of your service principal>>\", service_principal_password=svc_pr_password)\n",
    "\n",
    "###\n",
    "\n",
    "ws = Workspace(subscription_id, resource_group, workspace_name, auth = svc_pr)\n",
    "\n",
    "### Load data for scoring\n",
    "df = Dataset.get_by_name(ws, 'german_credit_hsg').to_pandas_dataframe()\n",
    "df.drop('Sno', axis = 1, inplace = True)\n",
    "new_data = df[9:16]\n",
    "\n",
    "### Load model for scoring\n",
    "model = Model(workspace = ws, name='german-credit-hsg')\n",
    "model.download()\n",
    "loaded_model = joblib.load('model.pkl')\n",
    "\n",
    "### Score new data\n",
    "results = loaded_model.predict(new_data)\n",
    "new_data['prediction'] = results\n",
    "\n",
    "### write output csv\n",
    "now = datetime.now()\n",
    "now = now.strftime(\"%Y_%m_%d__%H_%M_%S\")\n",
    "filename = now + '.csv'\n",
    "new_data.to_csv(filename)\n",
    "\n",
    "### upload csv to datastore\n",
    "ds = Datastore.get_default(ws)\n",
    "ds.upload_files([filename], target_path = './predictions')\n"
   ]
  },
  {
   "cell_type": "code",
   "execution_count": null,
   "metadata": {},
   "outputs": [],
   "source": [
    "### defining run environment\n",
    "### --------------------\n",
    "\n",
    "myenv = Environment(name=\"myenv\")\n",
    "\n",
    "conda_dep = CondaDependencies()\n",
    "conda_dep.add_pip_package(\"joblib\")\n",
    "conda_dep.add_pip_package(\"pandas\")\n",
    "conda_dep.add_pip_package(\"sklearn\")\n",
    "conda_dep.add_pip_package(\"azureml-sdk\")\n",
    "\n",
    "myenv.python.conda_dependencies=conda_dep"
   ]
  },
  {
   "cell_type": "code",
   "execution_count": null,
   "metadata": {},
   "outputs": [],
   "source": [
    "### creating run configuration\n",
    "### --------------------\n",
    "\n",
    "rc = RunConfiguration(script= './scripts/batch_score.py', conda_dependencies = conda_dep)"
   ]
  },
  {
   "cell_type": "code",
   "execution_count": null,
   "metadata": {},
   "outputs": [],
   "source": [
    "### create pipeline step\n",
    "### --------------------\n",
    "\n",
    "score_step = PythonScriptStep(name = 'Score step', script_name = 'batch_score.py', source_directory = './scripts', compute_target = compute_target, runconfig = rc, allow_reuse = False)\n"
   ]
  },
  {
   "cell_type": "code",
   "execution_count": null,
   "metadata": {},
   "outputs": [],
   "source": [
    "### create & validate pipeline\n",
    "### --------------------\n",
    "\n",
    "steps = [score_step]\n",
    "\n",
    "pipeline = Pipeline(workspace=ws, steps=steps)\n",
    "pipeline.validate()"
   ]
  },
  {
   "cell_type": "code",
   "execution_count": null,
   "metadata": {},
   "outputs": [],
   "source": [
    "experiment = Experiment(ws, 'Batch-Scoring-Remote')\n",
    "\n",
    "run = experiment.submit(pipeline)"
   ]
  },
  {
   "cell_type": "code",
   "execution_count": null,
   "metadata": {},
   "outputs": [],
   "source": [
    "### publish pipeline\n",
    "### --------------------\n",
    "\n",
    "#pipeline.publish(name='pred-ops-concept-test')"
   ]
  }
 ]
}